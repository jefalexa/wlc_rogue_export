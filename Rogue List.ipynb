{
 "cells": [
  {
   "cell_type": "markdown",
   "metadata": {},
   "source": [
    "# WLC Rogue List\n",
    "This notebook polls a Cisco Wireless LAN Controller via SNMPv2 and returns a list of rogue AP's seen by that WLC.  \n",
    "\n",
    "Follow the notebook, running each cell in order by highlighting the cell and pressing Shift-Enter.  \n",
    "\n",
    "## Load Modules"
   ]
  },
  {
   "cell_type": "code",
   "execution_count": null,
   "metadata": {},
   "outputs": [],
   "source": [
    "import pysnmp\n",
    "from pysnmp.hlapi import *\n",
    "import re\n",
    "import pandas as pd\n",
    "\n",
    "def snmp_v2_walk(host_name, community_name, oid):\n",
    "    for (errorIndication,\n",
    "         errorStatus,\n",
    "         errorIndex,\n",
    "         varBinds) in nextCmd(SnmpEngine(), \n",
    "                              CommunityData(community_name),\n",
    "                              UdpTransportTarget((host_name, 161)),\n",
    "                              ContextData(),                                                           \n",
    "                              ObjectType(ObjectIdentity(oid)),\n",
    "                              lexicographicMode=False):\n",
    "        if errorIndication:\n",
    "            print(errorIndication)\n",
    "        elif errorStatus:\n",
    "            print('%s at %s' % (errorStatus.prettyPrint(),\n",
    "                                errorIndex and varBinds[int(errorIndex) - 1][0] or '?'))\n",
    "        else:\n",
    "            for varBind in varBinds:\n",
    "                print(' = '.join([x.prettyPrint() for x in varBind]))\n",
    "\n",
    "                \n",
    "\n",
    "def snmp_v2_walk_iter(host_name, community_name, oid):\n",
    "    for (errorIndication,\n",
    "         errorStatus,\n",
    "         errorIndex,\n",
    "         varBinds) in nextCmd(SnmpEngine(), \n",
    "                              CommunityData(community_name),\n",
    "                              UdpTransportTarget((host_name, 161)),\n",
    "                              ContextData(),                                                           \n",
    "                              ObjectType(ObjectIdentity(oid)),\n",
    "                              lexicographicMode=False):\n",
    "        if errorIndication:\n",
    "            print(errorIndication)\n",
    "        elif errorStatus:\n",
    "            print('%s at %s' % (errorStatus.prettyPrint(),\n",
    "                                errorIndex and varBinds[int(errorIndex) - 1][0] or '?'))\n",
    "        else:\n",
    "            for varBind in varBinds:\n",
    "                out = ' = '.join([x.prettyPrint() for x in varBind])\n",
    "        yield(out)\n",
    "\n",
    "\n",
    "\n",
    "def snmp_v2_get(host_name, community_name, oid):\n",
    "\n",
    "    errorIndication, errorStatus, errorIndex, varBinds = next(\n",
    "        getCmd(SnmpEngine(),\n",
    "               CommunityData(community_name),\n",
    "               UdpTransportTarget((host_name, 161)),\n",
    "               ContextData(),\n",
    "               ObjectType(ObjectIdentity(oid)))\n",
    "    )\n",
    "\n",
    "    if errorIndication:\n",
    "        print(errorIndication)\n",
    "    elif errorStatus:\n",
    "        print('%s at %s' % (errorStatus.prettyPrint(),\n",
    "                            errorIndex and varBinds[int(errorIndex) - 1][0] or '?'))\n",
    "    else:\n",
    "        for varBind in varBinds:\n",
    "            print(' = '.join([x.prettyPrint() for x in varBind]))\n",
    "            "
   ]
  },
  {
   "cell_type": "markdown",
   "metadata": {},
   "source": [
    "## Set SNMP Parameters\n",
    "Add your own information here\n"
   ]
  },
  {
   "cell_type": "code",
   "execution_count": null,
   "metadata": {},
   "outputs": [],
   "source": [
    "wlc_ip_address = <IP ADDRESS>\n",
    "snmp_v2_community = <COMMUNITY STRING>\n"
   ]
  },
  {
   "cell_type": "markdown",
   "metadata": {},
   "source": [
    "## Put all Rogue Data in DataFrame"
   ]
  },
  {
   "cell_type": "code",
   "execution_count": null,
   "metadata": {},
   "outputs": [],
   "source": [
    "oid_rogue = '1.3.6.1.4.1.9.9.610.1.1.8.1.1'\n",
    "pattern = re.compile(\"([0-9]+)\\.(.*)\")\n",
    "\n",
    "df = pd.DataFrame(columns=['ID', 'key', 'value'])\n",
    "\n",
    "for line in snmp_v2_walk_iter(wlc_ip_address, snmp_v2_community, oid_rogue):\n",
    "\n",
    "    key, value = line.split(' = ')\n",
    "    key2 = key.split('.9.9.610.1.1.8.1.1.')[1]\n",
    "\n",
    "    match = re.split(pattern=pattern, string=key2)\n",
    "    value_key = match[1]\n",
    "    value_id = match[2]\n",
    "    val_dict = {'ID':[value_id], 'key':[value_key], 'value':[value]}\n",
    "    df = df.append(pd.DataFrame.from_dict(val_dict))\n",
    "  "
   ]
  },
  {
   "cell_type": "markdown",
   "metadata": {},
   "source": [
    "## Format into Database"
   ]
  },
  {
   "cell_type": "code",
   "execution_count": null,
   "metadata": {},
   "outputs": [],
   "source": [
    "id_list = df['ID'].unique()\n",
    "\n",
    "df_output = pd.DataFrame()\n",
    "\n",
    "for rogue_id in id_list:\n",
    "    f1 = df['ID'] == rogue_id\n",
    "    f2 = df['key'] == '1'\n",
    "    try:\n",
    "        rogue_bssid = df.loc[f1&f2, 'value'][0]\n",
    "    except:\n",
    "        rogue_bssid = \"N/A\"\n",
    "    f2 = df['key'] == '4'\n",
    "    try:\n",
    "        rogue_ap_name = df.loc[f1&f2, 'value'][0]\n",
    "    except:\n",
    "        rogue_ap_name = \"N/A\"\n",
    "    f2 = df['key'] == '5'\n",
    "    try:\n",
    "        rogue_channel = df.loc[f1&f2, 'value'][0]\n",
    "    except:\n",
    "        rogue_channel = \"N/A\"\n",
    "    f2 = df['key'] == '6'\n",
    "    try:\n",
    "        rogue_ssid = df.loc[f1&f2, 'value'][0]\n",
    "    except:\n",
    "        rogue_ssid = \"N/A\"\n",
    "    f2 = df['key'] == '8'\n",
    "    try:\n",
    "        rogue_rssi = df.loc[f1&f2, 'value'][0]\n",
    "    except:\n",
    "        rogue_rssi = \"N/A\"\n",
    "    f2 = df['key'] == '13'\n",
    "    try:\n",
    "        rogue_security_wpa = df.loc[f1&f2, 'value'][0]\n",
    "    except:\n",
    "        rogue_security_wpa = \"N/A\"\n",
    "    df_output.loc[rogue_id, 'BSSID'] = rogue_bssid\n",
    "    df_output.loc[rogue_id, 'AP Name'] = rogue_ap_name\n",
    "    df_output.loc[rogue_id, 'Channel'] = rogue_channel\n",
    "    df_output.loc[rogue_id, 'SSID'] = rogue_ssid\n",
    "    df_output.loc[rogue_id, 'RSSI'] = rogue_rssi\n",
    "    df_output.loc[rogue_id, 'WPA'] = rogue_security_wpa\n",
    "\n",
    "    \n",
    "df_output"
   ]
  },
  {
   "cell_type": "markdown",
   "metadata": {},
   "source": [
    "## Save Data to Local CSV File"
   ]
  },
  {
   "cell_type": "code",
   "execution_count": null,
   "metadata": {},
   "outputs": [],
   "source": [
    "df_output.to_csv(\"rogue_data.csv\")"
   ]
  },
  {
   "cell_type": "markdown",
   "metadata": {},
   "source": [
    "## Filter Data for Unsecure Rogue SSID's"
   ]
  },
  {
   "cell_type": "code",
   "execution_count": null,
   "metadata": {},
   "outputs": [],
   "source": [
    "f1 = df_output['WPA'] == '0'\n",
    "df_output.loc[f1, :]"
   ]
  },
  {
   "cell_type": "code",
   "execution_count": null,
   "metadata": {},
   "outputs": [],
   "source": []
  }
 ],
 "metadata": {
  "kernelspec": {
   "display_name": "Python 3",
   "language": "python",
   "name": "python3"
  },
  "language_info": {
   "codemirror_mode": {
    "name": "ipython",
    "version": 3
   },
   "file_extension": ".py",
   "mimetype": "text/x-python",
   "name": "python",
   "nbconvert_exporter": "python",
   "pygments_lexer": "ipython3",
   "version": "3.8.2"
  }
 },
 "nbformat": 4,
 "nbformat_minor": 4
}
